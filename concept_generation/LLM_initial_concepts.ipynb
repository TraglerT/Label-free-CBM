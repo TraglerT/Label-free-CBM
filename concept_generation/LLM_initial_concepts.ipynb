{
 "cells": [
  {
   "cell_type": "code",
   "id": "initial_id",
   "metadata": {
    "collapsed": true,
    "ExecuteTime": {
     "end_time": "2025-09-15T05:26:16.402031Z",
     "start_time": "2025-09-15T05:26:15.353215Z"
    }
   },
   "source": [
    "from google import genai\n",
    "from google.genai import types\n",
    "import os\n",
    "import utils.api_keys as api_keys\n",
    "import csv\n",
    "import time\n",
    "from tqdm import tqdm"
   ],
   "outputs": [],
   "execution_count": 1
  },
  {
   "metadata": {
    "ExecuteTime": {
     "end_time": "2025-09-15T05:26:17.113412Z",
     "start_time": "2025-09-15T05:26:16.416239Z"
    }
   },
   "cell_type": "code",
   "source": [
    "client = genai.Client(api_key=api_keys.gemini_api_key)\n",
    "model = \"gemini-2.5-flash-lite\"\n",
    "dataset = \"cub\"\n",
    "output_file = os.path.join(\"outputs\", \"{}_{}_concepts.csv\".format(model, dataset))\n",
    "label_file = \"CUB_classes.txt\"\n",
    "thinking_budget = 400 # Estimate How many tokens the model can use for \"thinking\"\n",
    "\n",
    "prompt_answer_rules = \"\\n\\n**Answer rules:**\\n* Use only **bullet points**.\\n* Each bullet must be a **single concept**, not a sentence.\\n* If a feature has multiple aspects, split them into separate bullets.\\n* Do not include explanations, context, or sentences — just the raw concepts.\\n\\n**Example format:**\\n* <onewordconcept>\\n* <multi word concept>\\n* <more concepts>\\n\\n\"\n",
    "\n",
    "prompts = {\n",
    "    \"important\" : \"List the most important features for recognizing something as a \\\"goldfish\\\":\\n\\n-bright orange color\\n-a small, round body\\n-a long, flowing tail\\n-a small mouth\\n-orange fins\\n\\nList the most important features for recognizing something as a \\\"beerglass\\\":\\n\\n-a tall, cylindrical shape\\n-clear or translucent color\\n-opening at the top\\n-a sturdy base\\n-a handle\\n\\nList the most important features for recognizing something as a \\\"{}\\\":\",\n",
    "    \"superclass\" : \"Give superclasses for the word \\\"tench\\\":\\n\\n-fish\\n-vertebrate\\n-animal\\n\\nGive superclasses for the word \\\"beer glass\\\":\\n\\n-glass\\n-container\\n-object\\n\\nGive superclasses for the word \\\"{}\\\":\",\n",
    "    \"around\" : \"List the things most commonly seen around a \\\"tench\\\":\\n\\n- a pond\\n-fish\\n-a net\\n-a rod\\n-a reel\\n-a hook\\n-bait\\n\\nList the things most commonly seen around a \\\"beer glass\\\":\\n\\n- beer\\n-a bar\\n-a coaster\\n-a napkin\\n-a straw\\n-a lime\\n-a person\\n\\nList the things most commonly seen around a \\\"{}\\\":\"\n",
    "}\n",
    "\n",
    "prompts = {\n",
    "    \"important\" : \"List the most important features for recognizing something as a \\\"{}\\\", based on an image.\",\n",
    "    \"superclass\" : \"Give superclasses for the word \\\"{}\\\", the categories should be explained in simple, layman-friendly language and should highlight how this bird differs from other types of birds:\",\n",
    "    \"around\" : \"List the things most commonly seen around a \\\"{}\\\":\"\n",
    "}\n",
    "#\\n* Acceptable forms: **adjective + noun** (e.g., “curved edge”) or a **single noun or verb** (e.g., “stripped”).\n",
    "labels = [\"Black_footed_Albatross\", \"Cardinal\", \"Vermilion_Flycatcher\"]\n",
    "\n"
   ],
   "id": "70f69050d62ce349",
   "outputs": [],
   "execution_count": 2
  },
  {
   "metadata": {
    "ExecuteTime": {
     "end_time": "2025-09-15T05:26:17.134584Z",
     "start_time": "2025-09-15T05:26:17.126558Z"
    }
   },
   "cell_type": "code",
   "source": [
    "# load classes from label file if the label file exist\n",
    "if os.path.exists(label_file):\n",
    "    labels = []\n",
    "    print(\"Loading labels from file:\", label_file)\n",
    "    with open(label_file, \"r\") as f:\n",
    "        for line in f:\n",
    "            # Split on first dot, take part after it\n",
    "            parts = line.strip().split(\".\", 1)\n",
    "            if len(parts) == 2:\n",
    "                labels.append(parts[1])"
   ],
   "id": "7bd78fe0484b5f99",
   "outputs": [
    {
     "name": "stdout",
     "output_type": "stream",
     "text": [
      "loading labels from file: CUB_classes.txt\n"
     ]
    }
   ],
   "execution_count": 3
  },
  {
   "metadata": {
    "ExecuteTime": {
     "end_time": "2025-09-15T06:43:11.226841Z",
     "start_time": "2025-09-15T05:26:17.153828Z"
    }
   },
   "cell_type": "code",
   "source": [
    "total_token_count = 0\n",
    "\n",
    "pbar = tqdm(labels)\n",
    "for label in pbar:\n",
    "    for prompt in prompts.values():\n",
    "        pbar.set_description(f\"Total tokens used: {total_token_count}\")\n",
    "        cur_prompt = prompt.format(label) + prompt_answer_rules\n",
    "\n",
    "        response = client.models.generate_content(\n",
    "            model=model,\n",
    "            contents=cur_prompt,\n",
    "            config=types.GenerateContentConfig(\n",
    "                thinking_config=types.ThinkingConfig(thinking_budget=600) # Thinking https://ai.google.dev/gemini-api/docs/rate-limits\n",
    "            ),\n",
    "        )\n",
    "        total_token_count += response.usage_metadata.total_token_count\n",
    "\n",
    "        # used csv instead of json for easier appending if model run is interrupted\n",
    "        with open(output_file, \"a\", newline=\"\") as f:\n",
    "            data = [\n",
    "                label,\n",
    "                cur_prompt,\n",
    "                response.text,\n",
    "                response.usage_metadata.total_token_count\n",
    "            ]\n",
    "            writer = csv.writer(f, quoting=csv.QUOTE_ALL)\n",
    "            writer.writerow(data)\n",
    "        time.sleep(3)  # To avoid rate limiting"
   ],
   "id": "edf119a759d9bcba",
   "outputs": [
    {
     "name": "stderr",
     "output_type": "stream",
     "text": [
      "Total tokens used: 378848: 100%|██████████| 200/200 [1:16:54<00:00, 23.07s/it]\n"
     ]
    }
   ],
   "execution_count": 4
  },
  {
   "metadata": {
    "ExecuteTime": {
     "end_time": "2025-09-15T06:43:11.354922Z",
     "start_time": "2025-09-15T06:43:11.352525Z"
    }
   },
   "cell_type": "code",
   "source": "",
   "id": "aacc18cfb804bd08",
   "outputs": [],
   "execution_count": null
  },
  {
   "metadata": {
    "ExecuteTime": {
     "end_time": "2025-09-15T06:43:11.360851Z",
     "start_time": "2025-09-15T06:43:11.358930Z"
    }
   },
   "cell_type": "code",
   "source": "",
   "id": "5e93f43f6ad07d0d",
   "outputs": [],
   "execution_count": null
  }
 ],
 "metadata": {
  "kernelspec": {
   "display_name": "Python 3",
   "language": "python",
   "name": "python3"
  },
  "language_info": {
   "codemirror_mode": {
    "name": "ipython",
    "version": 2
   },
   "file_extension": ".py",
   "mimetype": "text/x-python",
   "name": "python",
   "nbconvert_exporter": "python",
   "pygments_lexer": "ipython2",
   "version": "2.7.6"
  }
 },
 "nbformat": 4,
 "nbformat_minor": 5
}
