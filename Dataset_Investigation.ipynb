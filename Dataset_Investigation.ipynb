{
 "cells": [
  {
   "cell_type": "code",
   "id": "initial_id",
   "metadata": {
    "collapsed": true,
    "ExecuteTime": {
     "end_time": "2025-09-06T12:31:59.755883Z",
     "start_time": "2025-09-06T12:31:36.273388Z"
    }
   },
   "source": [
    "import os\n",
    "import numpy as np\n",
    "from utils.data_investigation_utils import load_derm7pt_metadata, load_CUB_200_2011, load_APascal_VOC, load_SUNAttributeDB"
   ],
   "outputs": [],
   "execution_count": 1
  },
  {
   "metadata": {
    "ExecuteTime": {
     "end_time": "2025-09-06T12:32:00.245683Z",
     "start_time": "2025-09-06T12:31:59.772097Z"
    }
   },
   "cell_type": "code",
   "source": [
    "cwd = os.getcwd()\n",
    "\n",
    "# Derm7pt dataset\n",
    "data_dir = os.path.join(os.path.dirname(cwd), 'data')\n",
    "X, y = load_derm7pt_metadata(data_dir)\n",
    "\n",
    "# CUB dataset\n",
    "#data_dir = os.path.join(cwd, 'data')\n",
    "#X, y = load_CUB_200_2011(data_dir)\n",
    "\n",
    "# APascal VOC dataset\n",
    "#data_dir = os.path.join(os.path.dirname(cwd), 'data/APascal')\n",
    "#X, y = load_APascal_VOC(data_dir)\n",
    "\n",
    "# SUN Attribute Dataset\n",
    "#data_dir = os.path.join(os.path.dirname(cwd), 'data/SUNAttributeDB')\n",
    "#X, y = load_SUNAttributeDB(data_dir)\n",
    "\n",
    "print(f'X shape: {X.shape}, y shape: {y.shape}, Number of classes: {len(np.unique(y))}')"
   ],
   "id": "7f6ce77e1fde33a9",
   "outputs": [
    {
     "name": "stdout",
     "output_type": "stream",
     "text": [
      "X shape: (1011, 7), y shape: (1011,), Number of classes: 5\n"
     ]
    }
   ],
   "execution_count": 2
  },
  {
   "metadata": {
    "ExecuteTime": {
     "end_time": "2025-09-06T12:32:03.889396Z",
     "start_time": "2025-09-06T12:32:00.254796Z"
    }
   },
   "cell_type": "code",
   "source": [
    "from sklearn.linear_model import LogisticRegression\n",
    "from sklearn.model_selection import train_test_split\n",
    "from sklearn.metrics import accuracy_score\n",
    "\n",
    "np.random.seed(42)\n",
    "clf = LogisticRegression(max_iter=1000)\n",
    "clf.fit(X, y)\n",
    "\n",
    "# Predict and compute accuracy\n",
    "y_pred = clf.predict(X)\n",
    "overall_acc = accuracy_score(y, y_pred)\n",
    "\n",
    "# Per Class accuracy\n",
    "classes = np.unique(y)\n",
    "worst_class = -1\n",
    "worst_acc = 1\n",
    "for c in classes:\n",
    "    idx = (y == c)\n",
    "    class_acc = accuracy_score(y[idx], y_pred[idx])\n",
    "    print(f\"Accuracy for class {c}: {class_acc*100:3.2f}%, Number of samples: {np.sum(idx):4d}\")\n",
    "    if worst_acc > class_acc:\n",
    "        worst_acc = class_acc\n",
    "        worst_class = c\n",
    "\n",
    "print(f\"Worst class is {worst_class} with accuracy {worst_acc*100:3.2f}%\")\n",
    "\n",
    "print(f\"Maximum achievable accuracy with a linear layer: {overall_acc*100:.2f}%\")"
   ],
   "id": "1998410e1d04a985",
   "outputs": [
    {
     "name": "stdout",
     "output_type": "stream",
     "text": [
      "Accuracy for class 0: 0.00%, Number of samples:   42\n",
      "Accuracy for class 1: 90.78%, Number of samples:  575\n",
      "Accuracy for class 2: 73.41%, Number of samples:  252\n",
      "Accuracy for class 3: 0.00%, Number of samples:   97\n",
      "Accuracy for class 4: 0.00%, Number of samples:   45\n",
      "Worst class is 0 with accuracy 0.00%\n",
      "Maximum achievable accuracy with a linear layer: 69.93%\n"
     ]
    }
   ],
   "execution_count": 3
  },
  {
   "metadata": {
    "ExecuteTime": {
     "end_time": "2025-09-06T12:32:04.240181Z",
     "start_time": "2025-09-06T12:32:04.222025Z"
    }
   },
   "cell_type": "code",
   "source": [
    "X_train, X_test, y_train, y_test = train_test_split(X, y, test_size=0.2, random_state=42)\n",
    "\n",
    "# Train a linear classifier\n",
    "clf = LogisticRegression(max_iter=1000)\n",
    "clf.fit(X_train, y_train)\n",
    "\n",
    "# Predictions\n",
    "y_pred = clf.predict(X_test)\n",
    "\n",
    "# Overall accuracy\n",
    "overall_acc = accuracy_score(y_test, y_pred)\n",
    "\n",
    "# Per-class accuracy\n",
    "worst_class = -1\n",
    "worst_acc = 1\n",
    "classes = np.unique(y)\n",
    "for c in classes:\n",
    "    idx = (y_test == c)\n",
    "    if len(y_test[idx]) == 0:\n",
    "        continue\n",
    "    class_acc = accuracy_score(y_test[idx], y_pred[idx])\n",
    "    print(f\"Accuracy for class {c}: {class_acc*100:3.2f}%, Number of samples: {np.sum(idx):4d}\")\n",
    "    if worst_acc > class_acc:\n",
    "        worst_acc = class_acc\n",
    "        worst_class = c\n",
    "\n",
    "print(f\"Worst class is {worst_class} with accuracy {worst_acc*100:3.2f}%\")\n",
    "\n",
    "print(f\"Maximum achievable accuracy with a linear layer: {overall_acc*100:.2f}%\")"
   ],
   "id": "5b3cad822437d116",
   "outputs": [
    {
     "name": "stdout",
     "output_type": "stream",
     "text": [
      "Accuracy for class 0: 0.00%, Number of samples:    6\n",
      "Accuracy for class 1: 95.87%, Number of samples:  121\n",
      "Accuracy for class 2: 78.26%, Number of samples:   46\n",
      "Accuracy for class 3: 0.00%, Number of samples:   22\n",
      "Accuracy for class 4: 0.00%, Number of samples:    8\n",
      "Worst class is 0 with accuracy 0.00%\n",
      "Maximum achievable accuracy with a linear layer: 74.88%\n"
     ]
    }
   ],
   "execution_count": 4
  },
  {
   "metadata": {
    "ExecuteTime": {
     "end_time": "2025-09-06T12:32:04.295306Z",
     "start_time": "2025-09-06T12:32:04.292302Z"
    }
   },
   "cell_type": "code",
   "source": "",
   "id": "ed7ae202fcf4da73",
   "outputs": [],
   "execution_count": null
  },
  {
   "metadata": {
    "ExecuteTime": {
     "end_time": "2025-09-06T12:32:04.302928Z",
     "start_time": "2025-09-06T12:32:04.300306Z"
    }
   },
   "cell_type": "code",
   "source": "",
   "id": "83293ab3c90a0114",
   "outputs": [],
   "execution_count": null
  }
 ],
 "metadata": {
  "kernelspec": {
   "display_name": "Python 3",
   "language": "python",
   "name": "python3"
  },
  "language_info": {
   "codemirror_mode": {
    "name": "ipython",
    "version": 2
   },
   "file_extension": ".py",
   "mimetype": "text/x-python",
   "name": "python",
   "nbconvert_exporter": "python",
   "pygments_lexer": "ipython2",
   "version": "2.7.6"
  }
 },
 "nbformat": 4,
 "nbformat_minor": 5
}
